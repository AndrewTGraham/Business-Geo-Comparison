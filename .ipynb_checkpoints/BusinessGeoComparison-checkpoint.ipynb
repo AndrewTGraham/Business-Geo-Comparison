{
 "cells": [
  {
   "cell_type": "code",
   "execution_count": 4,
   "id": "d846ae33-8b8c-4f6a-a4e0-4112598350e3",
   "metadata": {},
   "outputs": [],
   "source": [
    "with open('Foursquare.com Developers API Key.txt') as f:\n",
    "    api_key = f.readlines()[0].strip()"
   ]
  },
  {
   "cell_type": "code",
   "execution_count": 5,
   "id": "7217b738-eabe-4131-9177-9ade9d13806e",
   "metadata": {},
   "outputs": [
    {
     "data": {
      "text/plain": [
       "'fsq35lyFWXftlnFhCZrNz8sR2cq0We8DGZ7rM8BVY+t/dpo='"
      ]
     },
     "execution_count": 5,
     "metadata": {},
     "output_type": "execute_result"
    }
   ],
   "source": [
    "api_key"
   ]
  }
 ],
 "metadata": {
  "kernelspec": {
   "display_name": "Python 3 (ipykernel)",
   "language": "python",
   "name": "python3"
  },
  "language_info": {
   "codemirror_mode": {
    "name": "ipython",
    "version": 3
   },
   "file_extension": ".py",
   "mimetype": "text/x-python",
   "name": "python",
   "nbconvert_exporter": "python",
   "pygments_lexer": "ipython3",
   "version": "3.9.12"
  }
 },
 "nbformat": 4,
 "nbformat_minor": 5
}
