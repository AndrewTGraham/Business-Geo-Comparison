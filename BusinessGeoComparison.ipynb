{
 "cells": [
  {
   "cell_type": "code",
   "execution_count": 9,
   "id": "9d0a428e-95d2-45f6-8de2-a9fa32b79bcd",
   "metadata": {},
   "outputs": [],
   "source": [
    "import requests\n",
    "import time\n",
    "import json\n",
    "import pandas as pd"
   ]
  },
  {
   "cell_type": "code",
   "execution_count": 37,
   "id": "2a9b4933-3cde-4069-a7f1-aeed1751e6fe",
   "metadata": {},
   "outputs": [],
   "source": [
    "# https://location.foursquare.com/places/docs/categories\n",
    "categories={}\n",
    "with open('Foursquare Categories.txt') as f:\n",
    "    categories_list = f.readlines()"
   ]
  },
  {
   "cell_type": "code",
   "execution_count": 38,
   "id": "d2c5425f-3bbd-457f-805e-14dd5a939648",
   "metadata": {},
   "outputs": [],
   "source": [
    "for pos in range(len(categories_list)):\n",
    "    category_pair = categories_list[pos].strip().split('\\t')\n",
    "    categories[category_pair[0]]=category_pair[1]"
   ]
  },
  {
   "cell_type": "code",
   "execution_count": 49,
   "id": "1682e77b-f1d6-4545-a8f1-681009bbf80a",
   "metadata": {},
   "outputs": [
    {
     "name": "stdout",
     "output_type": "stream",
     "text": [
      "11062 Business and Professional Services > Health and Beauty Service > Barbershop\n"
     ]
    }
   ],
   "source": [
    "# General Tool to search the Categories\n",
    "search_Term = 'barber'\n",
    "for category_id, category_label in categories.items():\n",
    "    if (search_Term.upper() in category_label.upper()):\n",
    "        print(category_id, category_label)"
   ]
  },
  {
   "cell_type": "code",
   "execution_count": 54,
   "id": "3e2c6cb3-ff0b-47a7-bd3f-5965b78e198f",
   "metadata": {},
   "outputs": [
    {
     "name": "stdout",
     "output_type": "stream",
     "text": [
      "10000 Arts and Entertainment\n",
      "11000 Business and Professional Services\n",
      "12000 Community and Government\n",
      "13000 Dining and Drinking\n",
      "14000 Event\n",
      "15000 Health and Medicine\n",
      "16000 Landmarks and Outdoors\n",
      "17000 Retail\n",
      "18000 Sports and Recreation\n",
      "19000 Travel and Transportation\n"
     ]
    }
   ],
   "source": [
    "for category_id, category_label in categories.items():\n",
    "    if '>' not in category_label:\n",
    "        print(category_id, category_label)"
   ]
  },
  {
   "cell_type": "code",
   "execution_count": 4,
   "id": "d846ae33-8b8c-4f6a-a4e0-4112598350e3",
   "metadata": {},
   "outputs": [],
   "source": [
    "with open('Foursquare.com Developers API Key.txt') as f:\n",
    "    api_key = f.readlines()[0].strip()\n",
    "# https://location.foursquare.com/developer/reference/place-search"
   ]
  },
  {
   "cell_type": "code",
   "execution_count": 11,
   "id": "6873b7c0-279f-4ad6-bd9b-a3be0d7b2640",
   "metadata": {},
   "outputs": [
    {
     "name": "stdout",
     "output_type": "stream",
     "text": [
      "{\"results\":[{\"fsq_id\":\"4d31c2b398336dcbb6c11bf0\",\"categories\":[{\"id\":13334,\"name\":\"Sandwich Spot\",\"short_name\":\"Sandwich Spot\",\"plural_name\":\"Sandwich Spots\",\"icon\":{\"prefix\":\"https://ss3.4sqi.net/img/categories_v2/food/deli_\",\"suffix\":\".png\"}},{\"id\":13001,\"name\":\"Bagel Shop\",\"short_name\":\"Bagels\",\"plural_name\":\"Bagel Shops\",\"icon\":{\"prefix\":\"https://ss3.4sqi.net/img/categories_v2/food/bagels_\",\"suffix\":\".png\"}},{\"id\":13039,\"name\":\"Deli\",\"short_name\":\"Deli\",\"plural_name\":\"Delis\",\"icon\":{\"prefix\":\"https://ss3.4sqi.net/img/categories_v2/food/deli_\",\"suffix\":\".png\"}}],\"chains\":[],\"closed_bucket\":\"VeryLikelyOpen\",\"distance\":7210,\"geocodes\":{\"main\":{\"latitude\":40.43383,\"longitude\":-74.486964},\"roof\":{\"latitude\":40.43383,\"longitude\":-74.486964}},\"link\":\"/v3/places/4d31c2b398336dcbb6c11bf0\",\"location\":{\"address\":\"2222 US Highway 130\",\"census_block\":\"340230062091008\",\"country\":\"US\",\"dma\":\"New York\",\"formatted_address\":\"2222 US Highway 130, North Brunswick, NJ 08902\",\"locality\":\"North Brunswick\",\"postcode\":\"08902\",\"region\":\"NJ\"},\"name\":\"Bagel Fresh Deli and Grill\",\"related_places\":{},\"timezone\":\"America/New_York\"},{\"fsq_id\":\"505df424e4b08ab5c2c000c7\",\"categories\":[{\"id\":13058,\"name\":\"Hot Dog Joint\",\"short_name\":\"Hot Dogs\",\"plural_name\":\"Hot Dog Joints\",\"icon\":{\"prefix\":\"https://ss3.4sqi.net/img/categories_v2/food/hotdog_\",\"suffix\":\".png\"}},{\"id\":13145,\"name\":\"Fast Food Restaurant\",\"short_name\":\"Fast Food\",\"plural_name\":\"Fast Food Restaurants\",\"icon\":{\"prefix\":\"https://ss3.4sqi.net/img/categories_v2/food/fastfood_\",\"suffix\":\".png\"}},{\"id\":13314,\"name\":\"New American Restaurant\",\"short_name\":\"New American\",\"plural_name\":\"New American Restaurants\",\"icon\":{\"prefix\":\"https://ss3.4sqi.net/img/categories_v2/food/newamerican_\",\"suffix\":\".png\"}}],\"chains\":[],\"closed_bucket\":\"LikelyOpen\",\"distance\":8122,\"geocodes\":{\"main\":{\"latitude\":40.494747,\"longitude\":-74.44827},\"roof\":{\"latitude\":40.494747,\"longitude\":-74.44827}},\"link\":\"/v3/places/505df424e4b08ab5c2c000c7\",\"location\":{\"address\":\"101 Paterson St\",\"census_block\":\"340230093002011\",\"country\":\"US\",\"cross_street\":\"at Joyce Kilmer Ave\",\"dma\":\"New York\",\"formatted_address\":\"101 Paterson St (at Joyce Kilmer Ave), New Brunswick, NJ 08901\",\"locality\":\"New Brunswick\",\"postcode\":\"08901\",\"region\":\"NJ\"},\"name\":\"Destination Dogs\",\"related_places\":{},\"timezone\":\"America/New_York\"},{\"fsq_id\":\"5ba2881ad48ec1002c9dca4e\",\"categories\":[{\"id\":13003,\"name\":\"Bar\",\"short_name\":\"Bar\",\"plural_name\":\"Bars\",\"icon\":{\"prefix\":\"https://ss3.4sqi.net/img/categories_v2/nightlife/pub_\",\"suffix\":\".png\"}},{\"id\":13068,\"name\":\"American Restaurant\",\"short_name\":\"American\",\"plural_name\":\"American Restaurants\",\"icon\":{\"prefix\":\"https://ss3.4sqi.net/img/categories_v2/food/default_\",\"suffix\":\".png\"}},{\"id\":13338,\"name\":\"Seafood Restaurant\",\"short_name\":\"Seafood\",\"plural_name\":\"Seafood Restaurants\",\"icon\":{\"prefix\":\"https://ss3.4sqi.net/img/categories_v2/food/seafood_\",\"suffix\":\".png\"}}],\"chains\":[],\"closed_bucket\":\"LikelyOpen\",\"distance\":8076,\"geocodes\":{\"main\":{\"latitude\":40.496125,\"longitude\":-74.443774},\"roof\":{\"latitude\":40.496125,\"longitude\":-74.443774}},\"link\":\"/v3/places/5ba2881ad48ec1002c9dca4e\",\"location\":{\"address\":\"103 Church St\",\"census_block\":\"340230093005014\",\"country\":\"US\",\"cross_street\":\"\",\"dma\":\"New York\",\"formatted_address\":\"103 Church St, New Brunswick, NJ 08901\",\"locality\":\"New Brunswick\",\"postcode\":\"08901\",\"region\":\"NJ\"},\"name\":\"Salt Seafood & Oyster Bar\",\"related_places\":{},\"timezone\":\"America/New_York\"},{\"fsq_id\":\"4b788eeff964a520add62ee3\",\"categories\":[{\"id\":13383,\"name\":\"Steakhouse\",\"short_name\":\"Steakhouse\",\"plural_name\":\"Steakhouses\",\"icon\":{\"prefix\":\"https://ss3.4sqi.net/img/categories_v2/food/steakhouse_\",\"suffix\":\".png\"}}],\"chains\":[],\"closed_bucket\":\"LikelyOpen\",\"distance\":8092,\"geocodes\":{\"main\":{\"latitude\":40.496193,\"longitude\":-74.443299},\"roof\":{\"latitude\":40.496193,\"longitude\":-74.443299}},\"link\":\"/v3/places/4b788eeff964a520add62ee3\",\"location\":{\"address\":\"85 Church St\",\"census_block\":\"340230093005014\",\"country\":\"US\",\"dma\":\"New York\",\"formatted_address\":\"85 Church St, New Brunswick, NJ 08901\",\"locality\":\"New Brunswick\",\"postcode\":\"08901\",\"region\":\"NJ\"},\"name\":\"Steakhouse 85\",\"related_places\":{},\"timezone\":\"America/New_York\"},{\"fsq_id\":\"4b91c773f964a520cfd633e3\",\"categories\":[{\"id\":13046,\"name\":\"Ice Cream Parlor\",\"short_name\":\"Ice Cream\",\"plural_name\":\"Ice Cream Parlors\",\"icon\":{\"prefix\":\"https://ss3.4sqi.net/img/categories_v2/food/icecream_\",\"suffix\":\".png\"}},{\"id\":13065,\"name\":\"Restaurant\",\"short_name\":\"Restaurant\",\"plural_name\":\"Restaurants\",\"icon\":{\"prefix\":\"https://ss3.4sqi.net/img/categories_v2/food/default_\",\"suffix\":\".png\"}}],\"chains\":[],\"closed_bucket\":\"Unsure\",\"distance\":8492,\"geocodes\":{\"drop_off\":{\"latitude\":40.49803,\"longitude\":-74.449356},\"main\":{\"latitude\":40.498159,\"longitude\":-74.449307},\"roof\":{\"latitude\":40.498159,\"longitude\":-74.449307}},\"link\":\"/v3/places/4b91c773f964a520cfd633e3\",\"location\":{\"address\":\"55 Easton Ave\",\"census_block\":\"340230051002020\",\"country\":\"US\",\"dma\":\"New York\",\"formatted_address\":\"55 Easton Ave, New Brunswick, NJ 08901\",\"locality\":\"New Brunswick\",\"postcode\":\"08901\",\"region\":\"NJ\"},\"name\":\"Thomas Sweet Ice Cream\",\"related_places\":{},\"timezone\":\"America/New_York\"},{\"fsq_id\":\"4b887adcf964a520fffa31e3\",\"categories\":[{\"id\":13027,\"name\":\"Bistro\",\"short_name\":\"Bistro\",\"plural_name\":\"Bistros\",\"icon\":{\"prefix\":\"https://ss3.4sqi.net/img/categories_v2/food/default_\",\"suffix\":\".png\"}},{\"id\":13068,\"name\":\"American Restaurant\",\"short_name\":\"American\",\"plural_name\":\"American Restaurants\",\"icon\":{\"prefix\":\"https://ss3.4sqi.net/img/categories_v2/food/default_\",\"suffix\":\".png\"}},{\"id\":13148,\"name\":\"French Restaurant\",\"short_name\":\"French\",\"plural_name\":\"French Restaurants\",\"icon\":{\"prefix\":\"https://ss3.4sqi.net/img/categories_v2/food/french_\",\"suffix\":\".png\"}}],\"chains\":[],\"closed_bucket\":\"VeryLikelyOpen\",\"distance\":9010,\"geocodes\":{\"main\":{\"latitude\":40.491361,\"longitude\":-74.472226},\"roof\":{\"latitude\":40.491361,\"longitude\":-74.472226}},\"link\":\"/v3/places/4b887adcf964a520fffa31e3\",\"location\":{\"address\":\"700 Hamilton St\",\"census_block\":\"340350533002004\",\"country\":\"US\",\"dma\":\"New York\",\"formatted_address\":\"700 Hamilton St, Somerset, NJ 08873\",\"locality\":\"Somerset\",\"postcode\":\"08873\",\"region\":\"NJ\"},\"name\":\"Sophie's Bistro\",\"related_places\":{},\"timezone\":\"America/New_York\"},{\"fsq_id\":\"4d30e7ee71e3a143da01fd16\",\"categories\":[{\"id\":13145,\"name\":\"Fast Food Restaurant\",\"short_name\":\"Fast Food\",\"plural_name\":\"Fast Food Restaurants\",\"icon\":{\"prefix\":\"https://ss3.4sqi.net/img/categories_v2/food/fastfood_\",\"suffix\":\".png\"}},{\"id\":13191,\"name\":\"Halal Restaurant\",\"short_name\":\"Halal\",\"plural_name\":\"Halal Restaurants\",\"icon\":{\"prefix\":\"https://ss3.4sqi.net/img/categories_v2/food/halal_\",\"suffix\":\".png\"}},{\"id\":13199,\"name\":\"Indian Restaurant\",\"short_name\":\"Indian\",\"plural_name\":\"Indian Restaurants\",\"icon\":{\"prefix\":\"https://ss3.4sqi.net/img/categories_v2/food/indian_\",\"suffix\":\".png\"}}],\"chains\":[],\"closed_bucket\":\"LikelyOpen\",\"distance\":8883,\"geocodes\":{\"main\":{\"latitude\":40.510477,\"longitude\":-74.409563},\"roof\":{\"latitude\":40.510477,\"longitude\":-74.409563}},\"link\":\"/v3/places/4d30e7ee71e3a143da01fd16\",\"location\":{\"address\":\"1677 State Route 27\",\"address_extended\":\"Ste 2\",\"census_block\":\"340230015024002\",\"country\":\"US\",\"dma\":\"New York\",\"formatted_address\":\"1677 State Route 27, Edison, NJ 08817\",\"locality\":\"Edison\",\"postcode\":\"08817\",\"region\":\"NJ\"},\"name\":\"Delhi Garden\",\"related_places\":{},\"timezone\":\"America/New_York\"},{\"fsq_id\":\"4b490388f964a520056226e3\",\"categories\":[{\"id\":13039,\"name\":\"Deli\",\"short_name\":\"Deli\",\"plural_name\":\"Delis\",\"icon\":{\"prefix\":\"https://ss3.4sqi.net/img/categories_v2/food/deli_\",\"suffix\":\".png\"}},{\"id\":13068,\"name\":\"American Restaurant\",\"short_name\":\"American\",\"plural_name\":\"American Restaurants\",\"icon\":{\"prefix\":\"https://ss3.4sqi.net/img/categories_v2/food/default_\",\"suffix\":\".png\"}},{\"id\":13334,\"name\":\"Sandwich Spot\",\"short_name\":\"Sandwich Spot\",\"plural_name\":\"Sandwich Spots\",\"icon\":{\"prefix\":\"https://ss3.4sqi.net/img/categories_v2/food/deli_\",\"suffix\":\".png\"}}],\"chains\":[],\"closed_bucket\":\"Unsure\",\"distance\":9260,\"geocodes\":{\"main\":{\"latitude\":40.513954,\"longitude\":-74.403252},\"roof\":{\"latitude\":40.513954,\"longitude\":-74.403252}},\"link\":\"/v3/places/4b490388f964a520056226e3\",\"location\":{\"address\":\"267 Plainfield Ave\",\"census_block\":\"340230017021001\",\"country\":\"US\",\"dma\":\"New York\",\"formatted_address\":\"267 Plainfield Ave, Edison, NJ 08817\",\"locality\":\"Edison\",\"postcode\":\"08817\",\"region\":\"NJ\"},\"name\":\"The Original Tastee Su\",\"related_places\":{},\"timezone\":\"America/New_York\"},{\"fsq_id\":\"4b5beb29f964a5203f1d29e3\",\"categories\":[{\"id\":13276,\"name\":\"Sushi Restaurant\",\"short_name\":\"Sushi\",\"plural_name\":\"Sushi Restaurants\",\"icon\":{\"prefix\":\"https://ss3.4sqi.net/img/categories_v2/food/sushi_\",\"suffix\":\".png\"}},{\"id\":13383,\"name\":\"Steakhouse\",\"short_name\":\"Steakhouse\",\"plural_name\":\"Steakhouses\",\"icon\":{\"prefix\":\"https://ss3.4sqi.net/img/categories_v2/food/steakhouse_\",\"suffix\":\".png\"}}],\"chains\":[],\"closed_bucket\":\"Unsure\",\"distance\":9468,\"geocodes\":{\"main\":{\"latitude\":40.457922,\"longitude\":-74.296083},\"roof\":{\"latitude\":40.457922,\"longitude\":-74.296083}},\"link\":\"/v3/places/4b5beb29f964a5203f1d29e3\",\"location\":{\"address\":\"986 US Highway 9\",\"census_block\":\"340230073031024\",\"country\":\"US\",\"cross_street\":\"ernston road\",\"dma\":\"New York\",\"formatted_address\":\"986 US Highway 9 (ernston road), Parlin, NJ 08859\",\"locality\":\"Parlin\",\"postcode\":\"08859\",\"region\":\"NJ\"},\"name\":\"Arirang Hibachi Steak House\",\"related_places\":{},\"timezone\":\"America/New_York\"},{\"fsq_id\":\"4b807c1ff964a520ab7630e3\",\"categories\":[{\"id\":13236,\"name\":\"Italian Restaurant\",\"short_name\":\"Italian\",\"plural_name\":\"Italian Restaurants\",\"icon\":{\"prefix\":\"https://ss3.4sqi.net/img/categories_v2/food/italian_\",\"suffix\":\".png\"}}],\"chains\":[],\"closed_bucket\":\"VeryLikelyOpen\",\"distance\":9926,\"geocodes\":{\"main\":{\"latitude\":40.342927,\"longitude\":-74.424653},\"roof\":{\"latitude\":40.342927,\"longitude\":-74.424653}},\"link\":\"/v3/places/4b807c1ff964a520ab7630e3\",\"location\":{\"address\":\"301 Buckelew Ave\",\"census_block\":\"340230082121019\",\"country\":\"US\",\"cross_street\":\"\",\"dma\":\"New York\",\"formatted_address\":\"301 Buckelew Ave, Monroe Township, NJ 08831\",\"locality\":\"Monroe Township\",\"postcode\":\"08831\",\"region\":\"NJ\"},\"name\":\"Ciro's Ristorante Italiano\",\"related_places\":{},\"timezone\":\"America/New_York\"}],\"context\":{\"geo_bounds\":{\"circle\":{\"center\":{\"latitude\":40.4306,\"longitude\":-74.402},\"radius\":22000}}}}\n"
     ]
    }
   ],
   "source": [
    "url = \"https://api.foursquare.com/v3/places/search?ll=39.9524%2C-75.1636&categories=10052\"\n",
    "\n",
    "headers = {\n",
    "    \"accept\": \"application/json\",\n",
    "    \"Authorization\": \"fsq35lyFWXftlnFhCZrNz8sR2cq0We8DGZ7rM8BVY+t/dpo=\"\n",
    "}\n",
    "\n",
    "response = requests.get(url, headers=headers)\n",
    "\n",
    "print(response.text)"
   ]
  }
 ],
 "metadata": {
  "kernelspec": {
   "display_name": "Python 3 (ipykernel)",
   "language": "python",
   "name": "python3"
  },
  "language_info": {
   "codemirror_mode": {
    "name": "ipython",
    "version": 3
   },
   "file_extension": ".py",
   "mimetype": "text/x-python",
   "name": "python",
   "nbconvert_exporter": "python",
   "pygments_lexer": "ipython3",
   "version": "3.9.12"
  }
 },
 "nbformat": 4,
 "nbformat_minor": 5
}
