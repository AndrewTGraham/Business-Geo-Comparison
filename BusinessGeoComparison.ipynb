{
 "cells": [
  {
   "cell_type": "code",
   "execution_count": 1,
   "id": "9d0a428e-95d2-45f6-8de2-a9fa32b79bcd",
   "metadata": {},
   "outputs": [],
   "source": [
    "import requests\n",
    "import time\n",
    "import json\n",
    "import pandas as pd\n",
    "from scipy import stats\n",
    "from datetime import date"
   ]
  },
  {
   "cell_type": "code",
   "execution_count": 2,
   "id": "2a9b4933-3cde-4069-a7f1-aeed1751e6fe",
   "metadata": {},
   "outputs": [],
   "source": [
    "# https://location.foursquare.com/places/docs/categories\n",
    "categories={}\n",
    "with open('Foursquare Categories.txt') as f:\n",
    "    categories_list = f.readlines()"
   ]
  },
  {
   "cell_type": "code",
   "execution_count": 3,
   "id": "d2c5425f-3bbd-457f-805e-14dd5a939648",
   "metadata": {},
   "outputs": [],
   "source": [
    "for pos in range(len(categories_list)):\n",
    "    category_pair = categories_list[pos].strip().split('\\t')\n",
    "    categories[category_pair[0]]=category_pair[1]"
   ]
  },
  {
   "cell_type": "code",
   "execution_count": 4,
   "id": "1682e77b-f1d6-4545-a8f1-681009bbf80a",
   "metadata": {},
   "outputs": [
    {
     "name": "stdout",
     "output_type": "stream",
     "text": [
      "11062 Business and Professional Services > Health and Beauty Service > Barbershop\n"
     ]
    }
   ],
   "source": [
    "# General Tool to search the Categories\n",
    "search_Term = 'barber'\n",
    "for category_id, category_label in categories.items():\n",
    "    if (search_Term.upper() in category_label.upper()):\n",
    "        print(category_id, category_label)"
   ]
  },
  {
   "cell_type": "code",
   "execution_count": 5,
   "id": "3e2c6cb3-ff0b-47a7-bd3f-5965b78e198f",
   "metadata": {},
   "outputs": [
    {
     "name": "stdout",
     "output_type": "stream",
     "text": [
      "10000 Arts and Entertainment\n",
      "11000 Business and Professional Services\n",
      "12000 Community and Government\n",
      "13000 Dining and Drinking\n",
      "14000 Event\n",
      "15000 Health and Medicine\n",
      "16000 Landmarks and Outdoors\n",
      "17000 Retail\n",
      "18000 Sports and Recreation\n",
      "19000 Travel and Transportation\n"
     ]
    }
   ],
   "source": [
    "# Show me the major Categories\n",
    "for category_id, category_label in categories.items():\n",
    "    if '>' not in category_label:\n",
    "        print(category_id, category_label)"
   ]
  },
  {
   "cell_type": "code",
   "execution_count": 6,
   "id": "d846ae33-8b8c-4f6a-a4e0-4112598350e3",
   "metadata": {},
   "outputs": [],
   "source": [
    "with open('Foursquare.com Developers API Key.txt') as f:\n",
    "    api_key = f.readlines()[0].strip()\n",
    "# https://location.foursquare.com/developer/reference/place-search"
   ]
  },
  {
   "cell_type": "code",
   "execution_count": 33,
   "id": "9e9cfcd7-094a-49a1-ba51-dcc9db51f22f",
   "metadata": {},
   "outputs": [],
   "source": [
    "# For each of the 10 largest US cities. I asked chatGPT for the dead\n",
    "# center of the main business area and it provided these coordinates.\n",
    "\n",
    "new_york_city = ['40.7570', '-73.9855']\n",
    "los_angeles = ['34.0511', '-118.2582']\n",
    "chicago = ['41.8820', '-87.6278']\n",
    "houston = ['29.7604', '-95.3698']\n",
    "phoenix = ['33.4484', '-112.0740']\n",
    "philadelphia = ['39.9526', '-75.1652']\n",
    "san_antonio = ['29.4241', '-98.4936']\n",
    "san_diego = ['32.7157', '-117.1611']\n",
    "dallas = ['32.7767', '-96.7970']\n",
    "austin = ['30.2672', '-97.7431']\n",
    "\n",
    "location_list = [\n",
    "    ('new_york_city', new_york_city),\n",
    "    ('los_angeles', los_angeles),\n",
    "    ('chicago', chicago),\n",
    "    ('houston', houston),\n",
    "    ('phoenix', phoenix),\n",
    "    ('philadelphia', philadelphia),\n",
    "    ('san_antonio', san_antonio),\n",
    "    ('san_diego', san_diego),\n",
    "    ('dallas', dallas),\n",
    "    ('austin', austin)\n",
    "]"
   ]
  },
  {
   "cell_type": "code",
   "execution_count": 34,
   "id": "bdeb6a04-a217-4c07-9e8d-53ced6e74900",
   "metadata": {},
   "outputs": [
    {
     "name": "stdout",
     "output_type": "stream",
     "text": [
      "new_york_city ['40.7570', '-73.9855']\n",
      "los_angeles ['34.0511', '-118.2582']\n",
      "chicago ['41.8820', '-87.6278']\n",
      "houston ['29.7604', '-95.3698']\n",
      "phoenix ['33.4484', '-112.0740']\n",
      "philadelphia ['39.9526', '-75.1652']\n",
      "san_antonio ['29.4241', '-98.4936']\n",
      "san_diego ['32.7157', '-117.1611']\n",
      "dallas ['32.7767', '-96.7970']\n",
      "austin [' 30.2672', '-97.7431']\n"
     ]
    }
   ],
   "source": [
    "for location_name, location_coords in location_list:"
   ]
  },
  {
   "cell_type": "code",
   "execution_count": 58,
   "id": "4ea394f2-3d9d-43fb-b157-dd3221c632a9",
   "metadata": {},
   "outputs": [],
   "source": [
    "location_name = 'new_york_city'\n",
    "location_coords = ['40.7570', '-73.9855']\n",
    "category = '10000'"
   ]
  },
  {
   "cell_type": "code",
   "execution_count": 62,
   "id": "6873b7c0-279f-4ad6-bd9b-a3be0d7b2640",
   "metadata": {},
   "outputs": [
    {
     "name": "stdout",
     "output_type": "stream",
     "text": [
      "87\n"
     ]
    }
   ],
   "source": [
    "ll = location_coords\n",
    "radius_miles = '1' # Miles\n",
    "categories = [category]\n",
    "fields = ['distance']\n",
    "sort = 'DISTANCE' # RELEVANCE, RATING, or DISTANCE\n",
    "limit = 50 # 50 is the max limit\n",
    "\n",
    "radius = str(int(float(radius_miles)*1609.34))\n",
    "url = \"https://api.foursquare.com/v3/places/search?\" \\\n",
    "    + \"ll={}&\" \\\n",
    "    + \"radius={}&\" \\\n",
    "    + \"categories={}&\" \\\n",
    "    + \"fields={}&\" \\\n",
    "    + \"sort={}&\" \\\n",
    "    + \"limit={}\"\n",
    "\n",
    "url = url.format(\n",
    "    '%2C'.join(ll),\n",
    "    radius,\n",
    "    '%2C'.join(categories),\n",
    "    '%2C'.join(fields),\n",
    "    sort,\n",
    "    limit\n",
    ")\n",
    "\n",
    "headers = {\n",
    "    \"accept\": \"application/json\",\n",
    "    \"Authorization\": \"fsq35lyFWXftlnFhCZrNz8sR2cq0We8DGZ7rM8BVY+t/dpo=\"\n",
    "}\n",
    "\n",
    "response = requests.get(url, headers=headers)\n",
    "\n",
    "df = pd.DataFrame(response.json()['results'])\n",
    "\n",
    "# Count the results within the given radius\n",
    "if len(df)<limit:\n",
    "    results=len(df)\n",
    "# If the results are limited by the limit, then I have to estimate how many results\n",
    "# would appear within the radius if no limit. # My line of best fit method is lazy\n",
    "# I know it's not a linear relationship, but it's hard to estimate since you'd think\n",
    "# it's an exponential relationship as the area grows exponential to the radius, but\n",
    "# don't forget that if you use city centers as the midpoint density will decrease\n",
    "# as radius increases. They're also extrapolations which is a defiance to the stats\n",
    "# gods. Just don't put much faith in the estimates being accurate.\n",
    "else:\n",
    "    estimate_df = pd.DataFrame(df['distance'].copy(deep=True))\n",
    "    estimate_df['results']=range(1,limit+1)\n",
    "    # I know the true intercept should be 0 so I'll give it some extra values with\n",
    "    # 0 as the distance and results to help anchor the intercept near 0.\n",
    "    zero_dict = {'distance':[0]*20,'results':[0]*20} # 20 is arbitrary\n",
    "    estimate_df = pd.concat([estimate_df,pd.DataFrame(zero_dict)],ignore_index=True)\n",
    "    slope, intercept, r_value, p_value, std_err = stats.linregress(estimate_df['distance'], estimate_df['results'])\n",
    "    # del estimate_df\n",
    "    results = int( slope * float(radius) + intercept )\n",
    "\n",
    "print(results)"
   ]
  },
  {
   "cell_type": "code",
   "execution_count": 78,
   "id": "c4d3e309-c507-4787-ad66-43b47d063fca",
   "metadata": {},
   "outputs": [],
   "source": [
    "query_data_dict = {\n",
    "    'location_name': location_name,\n",
    "    'lat': location_coords[0],\n",
    "    'lon': location_coords[1],\n",
    "    'category': category,\n",
    "    'radius_miles': radius_miles,\n",
    "    'results': results,\n",
    "    'distances': ','.join(list(df['distance'].astype(str))),\n",
    "    'query_date': str(date.today())\n",
    "}"
   ]
  },
  {
   "cell_type": "code",
   "execution_count": 80,
   "id": "932ade84-a79d-4ac0-9196-f416148910f3",
   "metadata": {},
   "outputs": [],
   "source": [
    "query_data = pd.DataFrame(\n",
    "    columns=[\n",
    "        'location_name',\n",
    "        'lat',\n",
    "        'lon',\n",
    "        'category',\n",
    "        'radius_miles',\n",
    "        'results',\n",
    "        'distances',\n",
    "        'query_date']\n",
    ")"
   ]
  }
 ],
 "metadata": {
  "kernelspec": {
   "display_name": "Python 3 (ipykernel)",
   "language": "python",
   "name": "python3"
  },
  "language_info": {
   "codemirror_mode": {
    "name": "ipython",
    "version": 3
   },
   "file_extension": ".py",
   "mimetype": "text/x-python",
   "name": "python",
   "nbconvert_exporter": "python",
   "pygments_lexer": "ipython3",
   "version": "3.9.12"
  }
 },
 "nbformat": 4,
 "nbformat_minor": 5
}
